{
 "cells": [
  {
   "cell_type": "markdown",
   "metadata": {},
   "source": [
    "Lending Club is a \"Market Place Lender\" which allows an individual to apply for a personal loan to be filled by the market, as opposed to a bank or other specialty lender.   They have grown in success and to date have closed over $3Bn in loans.    Lending Club has made loan and performance information freely available on their website. \n",
    "\n",
    "The data is available on the Lending Club website (https://www.lendingclub.com/info/download-data.action).   I manually downloaded the CSV files and stored them locally.   I am using only one subset of the total lending club data.  \n",
    "\n",
    "My objectives in this project are threefold:\n",
    "    i) Learn how to view, clean and manipulate large datasets;\n",
    "    ii)Develop intuition for fitting estimators to the data;\n",
    "    iii) What are the best predictors of borrower default? \n",
    "    iv) What rates do borrowers pay versus their other financial options?\n",
    "    v) What are the best predictors of early borrower repayment? \n",
    "    vi) Start to develop a better way to predict creditworthiness of borrowers beyond the standard methods (eg, FICO); \n",
    "        a) For example, can we parse their loan purpose comments to develop a predictor of default?\n",
    "        b) Can I take location information (eg, via zip codes) to get a better understanding the regional economy? \n",
    "        c) Ultimately, I would like to also use complementary external data sources to allow better prediction. \n",
    "\n",
    "## This notebook takes a cleaned file created by notebook \"Lending Club Cleaning Notebook v2.0\" and performs graphing and statistical analysis.   \n",
    "\n",
    "23JUN 15 - logistic regaression with feature selection implemented.    Graphing ROC function.  Graphing interest rates per lending club classification.   Almost done with logic to calculate total returns. \n",
    "\n",
    "30 July - Separated graphing notebook from statistical analysis notebook.  Both read same file, produced by cleaning notebook. \n",
    "\n",
    " "
   ]
  },
  {
   "cell_type": "code",
   "execution_count": 1,
   "metadata": {
    "collapsed": false
   },
   "outputs": [],
   "source": [
    "# load relevant libraries\n",
    "# This Workbook assumes the presence of a cleaned Lending Club file.   For more details on cleaning\n",
    "# And calculated features, see xxx\n",
    "\n",
    "import pandas as pd\n",
    "from sklearn.preprocessing import PolynomialFeatures\n",
    "import matplotlib.pyplot as plt\n",
    "import numpy as np\n",
    "from sklearn.cross_validation import train_test_split\n",
    "import seaborn as sns\n",
    "\n",
    "\n",
    "%matplotlib inline\n",
    "# url = \"/Users/Glenn/Documents/LendingClub/LendingClub_07-12_CLEANED.csv\"\n",
    "# url = \"/Users/Glenn/Documents/LendingClub/LendingClub_12-13_CLEANED.csv\"\n",
    "# url = \"/Users/Glenn/Documents/LendingClub/LendingClub_13-14_CLEANED.csv\"\n",
    "url = \"/Users/Glenn/Documents/LendingClub/LendingClub_CLEANED_V2.csv\"\n",
    "lcd = pd.read_csv(url, \n",
    "                       parse_dates=['last_pymnt_date','issue_date',\n",
    "                                   'last_credit_pull_date','next_pymnt_date'])\n"
   ]
  },
  {
   "cell_type": "markdown",
   "metadata": {},
   "source": [
    "### The code below is where the regressions are run.  Currently, I am using a simple logistic regression against one feature.   Next steps will be to use more features and explcitly feature selection.  Hopefully, I'll be able to also do better model selection and tuning.  "
   ]
  },
  {
   "cell_type": "code",
   "execution_count": 2,
   "metadata": {
    "collapsed": false
   },
   "outputs": [],
   "source": [
    "from sklearn.pipeline import make_pipeline\n",
    "from sklearn.grid_search import GridSearchCV\n",
    "from sklearn.cross_validation import StratifiedKFold\n",
    "from sklearn import preprocessing\n",
    "from sklearn.feature_selection import RFECV\n",
    "import sklearn\n",
    "import sklearn.linear_model as lm\n",
    "import sklearn.grid_search as gs\n",
    "\n",
    "# Define features, \n",
    "\n",
    "total_features_selected = ['HO - Rent','HO - Own','HO - Mortgage','HO - Other','loan_amnt','clean_rate','annual_inc','delinq_2yrs','fico_interp',\n",
    "                'Total_Defaults','mths_since_last_delinq','PURP:credit_card','PURP:car','PURP:small_business','PURP:other',\n",
    "                'PURP:wedding','PURP:debt_consolidation','PURP:home_improvement', 'PURP:major_purchase','PURP:medical',\n",
    "                'PURP:moving','PURP:vacation','PURP:house','PURP:renewable_energy','dti','emp_length_numeric',\n",
    "                'A1','A2','A3','A4','A5',\n",
    "                'B1','B2','B3','B4','B5',\n",
    "                'C1','C2','C3','C4','C5',\n",
    "                'D1','D2','D3','D4','D5',\n",
    "                'E1','E2','E3','E4','E5',\n",
    "                'F1','F2','F3','F4','F5',\n",
    "                'G1','G2','G3','G4','G5']\n",
    "\n",
    "# Select features for first regression\n",
    "'''\n",
    "features_selected=['HO - Rent','HO - Own','HO - Mortgage','HO - Other','loan_amnt','clean_rate','annual_inc','delinq_2yrs','fico_interp',\n",
    "                'Total_Defaults','mths_since_last_delinq','PURP:credit_card','PURP:car','PURP:small_business','PURP:other',\n",
    "                'PURP:wedding','PURP:debt_consolidation','PURP:home_improvement', 'PURP:major_purchase','PURP:medical',\n",
    "                'PURP:moving','PURP:vacation','PURP:house','PURP:renewable_energy','emp_length_numeric']\n",
    "'''\n",
    "features_selected=['HO - Rent','HO - Own','HO - Mortgage','HO - Other','loan_amnt','clean_rate','annual_inc','delinq_2yrs','fico_interp',\n",
    "                'mths_since_last_delinq','PURP:credit_card','PURP:car','PURP:small_business','PURP:other',\n",
    "                'PURP:wedding','PURP:debt_consolidation','PURP:home_improvement', 'PURP:major_purchase','PURP:medical',\n",
    "                'PURP:moving','PURP:vacation','PURP:house','PURP:renewable_energy','emp_length_numeric']\n",
    "\n",
    "# Create df of features, then drop nas. \n",
    "lcd_temp2= lcd[total_features_selected].dropna()\n",
    "\n",
    "# select features which are NOT LC ratings.  \n",
    "X = lcd_temp2[total_features_selected].drop(['Total_Defaults'],axis=1) # This is the first set of features we use for feature reduction\n",
    "y = lcd_temp2['Total_Defaults']               # This is the response variable - Total Defaults\n",
    "\n",
    "#  Create train and test datasets to evaluate each model\n",
    "Xtrain, Xtest, ytrain, ytest = train_test_split(X,y,train_size = 0.10)"
   ]
  },
  {
   "cell_type": "code",
   "execution_count": 3,
   "metadata": {
    "collapsed": false
   },
   "outputs": [],
   "source": [
    "# Form of Recursive Feature Selection with Cross Validation\n",
    "# class sklearn.feature_selection.RFECV(estimator, step=1, cv=None, scoring=None, \n",
    "#                                       estimator_params=None, verbose=0)[source]\n",
    "\n",
    "# Use RFECV to reduce features\n",
    "\n",
    "#  Create a logistic regression estimator \n",
    "logreg = lm.LogisticRegression()\n",
    "\n",
    "# Use RFECV to pick best features, using Stratified Kfold\n",
    "rfecv =   RFECV(estimator=logreg, cv=StratifiedKFold(ytrain, 10), scoring='roc_auc')\n",
    "\n",
    "# Fit the features to the response variable\n",
    "X_new = rfecv.fit_transform(Xtrain[features_selected], ytrain)"
   ]
  },
  {
   "cell_type": "code",
   "execution_count": 4,
   "metadata": {
    "collapsed": false
   },
   "outputs": [
    {
     "name": "stdout",
     "output_type": "stream",
     "text": [
      "7 features selected:\n",
      "['loan_amnt', 'annual_inc', 'delinq_2yrs', 'fico_interp', 'mths_since_last_delinq', 'PURP:credit_card', 'dti']\n"
     ]
    }
   ],
   "source": [
    "# Select the features which are most important\n",
    "\n",
    "selected_feature_names = []\n",
    "for i in range(0, len(rfecv.support_)): \n",
    "    if rfecv.support_[i] == True :\n",
    "        selected_feature_names.append(X.columns[i])\n",
    "        \n",
    "print\"%d features selected:\"  % rfecv.n_features_\n",
    "print selected_feature_names\n",
    "# X_newdf = pd.DataFrame(X_new,columns = column_names)"
   ]
  },
  {
   "cell_type": "code",
   "execution_count": 4,
   "metadata": {
    "collapsed": false
   },
   "outputs": [],
   "source": [
    "# Form of Recursive Feature Selection with Cross Validation\n",
    "# class sklearn.feature_selection.RFECV(estimator, step=1, cv=None, scoring=None, \n",
    "#                                       estimator_params=None, verbose=0)[source]\n",
    "\n",
    "# Use RFECV to reduce features\n",
    "\n",
    "#  Create a logistic regression estimator \n",
    "# logreg = lm.LogisticRegression()\n",
    "\n",
    "# Use RFECV to pick best features, using Stratified Kfold.  USE LEAVE ONE OUT CV FOR THIS RUN\n",
    "# rfecv_loo =   RFECV(estimator=logreg, cv=StratifiedKFold(ytrain, 10), scoring='roc_auc')\n",
    "\n",
    "# Fit the features to the response variable\n",
    "#  X_new = rfecv.fit_transform(Xtrain[features_selected], ytrain)"
   ]
  },
  {
   "cell_type": "code",
   "execution_count": 5,
   "metadata": {
    "collapsed": false
   },
   "outputs": [
    {
     "data": {
      "text/plain": [
       "GridSearchCV(cv=sklearn.cross_validation.StratifiedKFold(labels=[ 0.  0. ...,  0.  0.], n_folds=5, shuffle=False, random_state=None),\n",
       "       error_score='raise',\n",
       "       estimator=Pipeline(steps=[('standardscaler', StandardScaler(copy=True, with_mean=True, with_std=True)), ('logisticregression', LogisticRegression(C=1.0, class_weight=None, dual=False, fit_intercept=True,\n",
       "          intercept_scaling=1, max_iter=100, multi_class='ovr',\n",
       "          penalty='l2', random_state=None, solver='liblinear', tol=0.0001,\n",
       "          verbose=0))]),\n",
       "       fit_params={}, iid=True, loss_func=None, n_jobs=1,\n",
       "       param_grid={'logisticregression__class_weight': [None, 'auto'], 'logisticregression__penalty': ['l1', 'l2'], 'logisticregression__C': array([  1.00000e-05,   1.00000e-04,   1.00000e-03,   1.00000e-02,\n",
       "         1.00000e-01,   1.00000e+00])},\n",
       "       pre_dispatch='2*n_jobs', refit=True, score_func=None,\n",
       "       scoring='roc_auc', verbose=0)"
      ]
     },
     "execution_count": 5,
     "metadata": {},
     "output_type": "execute_result"
    }
   ],
   "source": [
    "# Let's try to tune some logreg hyperparameters for the feature set X.   \n",
    "# pipeline with scaling to select best C and penalty\n",
    "# Use Cross Validation to create train, test samples from data\n",
    "\n",
    "# Make pipeline normalization -> logistic regression for Grid SearchCV\n",
    "pipe = make_pipeline(preprocessing.StandardScaler(), lm.LogisticRegression())\n",
    "\n",
    "# from sklearn.svm import l1_min_c\n",
    "# cs = l1_min_c(X, y, loss='log') \n",
    "\n",
    "C_range = 10.**np.arange(-5, 1)\n",
    "\n",
    "penalty_options = ['l1', 'l2']\n",
    "\n",
    "skf = StratifiedKFold(ytrain, 5)\n",
    "\n",
    "param_grid = dict(logisticregression__C=C_range, logisticregression__penalty=penalty_options,\n",
    "                 logisticregression__class_weight=[None, 'auto'])\n",
    "\n",
    "grid = GridSearchCV(pipe, param_grid, cv=skf, scoring='roc_auc',refit=True)\n",
    "\n",
    "# grid = GridSearchCV(logreg, param_grid, cv=skf, scoring='roc_auc')\n",
    "grid.fit(X_new, ytrain)\n",
    "# grid.fit(Xtrain,ytrain)"
   ]
  },
  {
   "cell_type": "code",
   "execution_count": 6,
   "metadata": {
    "collapsed": false
   },
   "outputs": [],
   "source": [
    "# Use grid tuned classifier to predict probabilities on test dataset, put in y_probas\n",
    "y_probas = grid.predict_proba(Xtest[selected_feature_names])[:,1]"
   ]
  },
  {
   "cell_type": "code",
   "execution_count": 17,
   "metadata": {
    "collapsed": false
   },
   "outputs": [],
   "source": [
    "# This routine from STackOverflow.  Illustrates how to index arrays within nested cross validation folds. \n",
    "# Put all things together with the nested cross-validation\n",
    "# generate a pandas dataframe to store prediction probability\n",
    "\n",
    "# from sklearn.metrics import classification_report\n",
    "# from sklearn.datasets import make_classification\n",
    "\n",
    "# create dataframes from a subset of Xtrain, ytrain data (for speed)\n",
    "# X_ = Xtrain[features_selected]\n",
    "# y_ = ytrain\n",
    "\n",
    "# kfold_df holds predicted probabilities from Grid esitmator. \n",
    "# kfold_df = pd.DataFrame(0.0, index=np.arange(len(y_)), columns=pd.unique(y_.values.ravel()))\n",
    "\n",
    "# report = []  # to store classification report\n",
    "\n",
    "# split = StratifiedKFold(y_, n_folds=5, shuffle=True, random_state=123)\n",
    "# for train_index, test_index in split:\n",
    "\n",
    "    #   grid = GridSearchCV(pipe, param_grid, cv=StratifiedKFold(y_[train_index], n_folds=5), scoring='roc_auc')\n",
    "    \n",
    "    # Won't this find different hyperparametrs per fold??\n",
    "    # grid.fit(X_.iloc[train_index], y_.iloc[train_index])\n",
    "\n",
    "    # y_pred_probs = grid.predict_proba(X_.iloc[test_index])\n",
    "    # kfold_df.loc[test_index, :] = y_pred_probs\n",
    "\n",
    "    # y_pred = grid.predict(X_.iloc[test_index])\n",
    "    # report.append(classification_report(y_.iloc[test_index], y_pred))"
   ]
  },
  {
   "cell_type": "code",
   "execution_count": 7,
   "metadata": {
    "collapsed": true
   },
   "outputs": [],
   "source": [
    "from sklearn.metrics import roc_curve, auc, roc_auc_score, confusion_matrix"
   ]
  },
  {
   "cell_type": "code",
   "execution_count": 9,
   "metadata": {
    "collapsed": false
   },
   "outputs": [
    {
     "data": {
      "text/plain": [
       "KNeighborsClassifier(algorithm='auto', leaf_size=30, metric='minkowski',\n",
       "           metric_params=None, n_neighbors=5, p=2, weights='distance')"
      ]
     },
     "execution_count": 9,
     "metadata": {},
     "output_type": "execute_result"
    }
   ],
   "source": [
    "# Now lets use KNN \n",
    "\n",
    "# class sklearn.neighbors.KNeighborsClassifier(n_neighbors=5, weights='uniform', \n",
    "#                algorithm='auto', leaf_size=30, p=2, metric='minkowski', metric_params=None, **kwargs)\n",
    "\n",
    "from sklearn.neighbors import KNeighborsClassifier\n",
    "\n",
    "\n",
    "# Iterate from 1 - 51 neighbors, by 2\n",
    "# n_neighbors = range(1, 11, 2)\n",
    "# n_neighbors = 5\n",
    "\n",
    "############################################################################\n",
    "# Use grid search to find best KNN model...\n",
    "# Need to scale all continuous features, pipe will allow us to use GridSearchCV\n",
    "# pipe = make_pipeline(preprocessing.StandardScaler(), KNeighborsClassifier())\n",
    "\n",
    "# param_grid = dict(kneighborsclassifier__n_neighbors = n_neighbors)\n",
    "\n",
    "# Use statified KFold because y is inbalanced. \n",
    "# skf = StratifiedKFold(ytrain, 3)\n",
    "\n",
    "# Grid search for best n_neighbors\n",
    "# clf = GridSearchCV(pipe, param_grid, cv=skf, scoring='roc_auc',refit=True)\n",
    "\n",
    "#####################################################################\n",
    "#  Separate Loop through each neighbors value from 1 to 51 and append\n",
    "#  the scores\n",
    "# Not pipe, but scaled to N(0,1)\n",
    "\n",
    "Xtrain_Scaled = preprocessing.StandardScaler().fit_transform(Xtrain)\n",
    "Xtest_Scaled = preprocessing.StandardScaler().fit_transform(Xtest)\n",
    "\n",
    "# scores will hold series of ROC_AUC scores\n",
    "# scores = []\n",
    "\n",
    "# Loop through n_neighbors and append ROC_AUC test results.\n",
    "# for n in n_neighbors:\n",
    "#     clf = KNeighborsClassifier(n)\n",
    "#    clf.fit(Xtrain_Scaled, ytrain)\n",
    "#    y_probas_KNN = clf.predict_proba(Xtest_Scaled)[:,1]\n",
    "#    scores.append(roc_auc_score(ytest,y_probas_KNN))\n",
    "    \n",
    "###################\n",
    "# Simple instantiation of KNN Classifier\n",
    "clf = KNeighborsClassifier(n_neighbors = 5,weights='distance')\n",
    "#  Fit Model \n",
    "clf.fit(Xtrain_Scaled, ytrain)\n",
    "# Predict probabilities\n",
    "# y_probas_KNN = clf.predict_proba(Xtest_Scaled)[:,1]"
   ]
  },
  {
   "cell_type": "code",
   "execution_count": 12,
   "metadata": {
    "collapsed": true
   },
   "outputs": [],
   "source": [
    "y_probas_KNN = clf.predict_proba(Xtest_Scaled[:100000,])[:,1]"
   ]
  },
  {
   "cell_type": "code",
   "execution_count": 11,
   "metadata": {
    "collapsed": false
   },
   "outputs": [
    {
     "data": {
      "text/plain": [
       "(400725, 60)"
      ]
     },
     "execution_count": 11,
     "metadata": {},
     "output_type": "execute_result"
    }
   ],
   "source": [
    "Xtest_Scaled.shape"
   ]
  },
  {
   "cell_type": "code",
   "execution_count": 15,
   "metadata": {
    "collapsed": false
   },
   "outputs": [
    {
     "data": {
      "text/plain": [
       "0.54458791204946977"
      ]
     },
     "execution_count": 15,
     "metadata": {},
     "output_type": "execute_result"
    }
   ],
   "source": [
    "roc_auc_score(ytest[:100000,],y_probas_KNN)"
   ]
  },
  {
   "cell_type": "code",
   "execution_count": 35,
   "metadata": {
    "collapsed": false
   },
   "outputs": [
    {
     "data": {
      "text/plain": [
       "[<matplotlib.lines.Line2D at 0x109524d90>]"
      ]
     },
     "execution_count": 35,
     "metadata": {},
     "output_type": "execute_result"
    },
    {
     "data": {
      "image/png": "[encoded data removed]",
      "text/plain": [
       "<matplotlib.figure.Figure at 0x1318c1cd0>"
      ]
     },
     "metadata": {},
     "output_type": "display_data"
    }
   ],
   "source": [
    "plt.plot(n_neighbors, scores, linewidth=3.0)"
   ]
  },
  {
   "cell_type": "code",
   "execution_count": 18,
   "metadata": {
    "collapsed": false
   },
   "outputs": [
    {
     "name": "stdout",
     "output_type": "stream",
     "text": [
      "AUC Score: 0.644604\n"
     ]
    }
   ],
   "source": [
    "# Try a Decision Tree Classifier\n",
    "\n",
    "from sklearn import tree\n",
    "\n",
    "clf = tree.DecisionTreeClassifier(class_weight='auto',max_depth=9)\n",
    "clf = clf.fit(Xtrain, ytrain)\n",
    "y_probas_tree = clf.predict_proba(Xtest)[:,1]\n",
    "\n",
    "print \"AUC Score: %f\" % roc_auc_score(ytest,y_probas_tree)"
   ]
  },
  {
   "cell_type": "code",
   "execution_count": 21,
   "metadata": {
    "collapsed": false
   },
   "outputs": [],
   "source": [
    "Model_Outputs = pd.DataFrame({ 'Dec Tree':clf.feature_importances_},index = Xtrain.columns)"
   ]
  },
  {
   "cell_type": "code",
   "execution_count": 23,
   "metadata": {
    "collapsed": false
   },
   "outputs": [
    {
     "name": "stdout",
     "output_type": "stream",
     "text": [
      "AUC Score: 0.696376\n"
     ]
    }
   ],
   "source": [
    "# Try Ada Boost Classifier\n",
    "\n",
    "from sklearn.ensemble import AdaBoostClassifier\n",
    "\n",
    "estimators=200\n",
    "\n",
    "bdt = AdaBoostClassifier(tree.DecisionTreeClassifier(max_depth=1,class_weight= 'auto'),\n",
    "                         algorithm=\"SAMME.R\",\n",
    "                         n_estimators=estimators)\n",
    "\n",
    "bdt = bdt.fit(Xtrain,ytrain)\n",
    "\n",
    "y_probas_bdt = bdt.predict_proba(Xtest)[:,1]\n",
    "\n",
    "print \"AUC Score: %f\" % roc_auc_score(ytest,y_probas_bdt)\n"
   ]
  },
  {
   "cell_type": "code",
   "execution_count": 24,
   "metadata": {
    "collapsed": false
   },
   "outputs": [],
   "source": [
    "# compute the feature importances\n",
    "\n",
    "Model_Outputs['Ada Boost'] = bdt.feature_importances_"
   ]
  },
  {
   "cell_type": "code",
   "execution_count": 25,
   "metadata": {
    "collapsed": false
   },
   "outputs": [
    {
     "data": {
      "text/html": [
       "<div style=\"max-height:1000px;max-width:1500px;overflow:auto;\">\n",
       "<table border=\"1\" class=\"dataframe\">\n",
       "  <thead>\n",
       "    <tr style=\"text-align: right;\">\n",
       "      <th></th>\n",
       "      <th>Dec Tree</th>\n",
       "      <th>Ada Boost</th>\n",
       "    </tr>\n",
       "  </thead>\n",
       "  <tbody>\n",
       "    <tr>\n",
       "      <th>HO - Rent</th>\n",
       "      <td> 0.005612</td>\n",
       "      <td> 0.005</td>\n",
       "    </tr>\n",
       "    <tr>\n",
       "      <th>HO - Own</th>\n",
       "      <td> 0.002442</td>\n",
       "      <td> 0.000</td>\n",
       "    </tr>\n",
       "    <tr>\n",
       "      <th>HO - Mortgage</th>\n",
       "      <td> 0.007301</td>\n",
       "      <td> 0.000</td>\n",
       "    </tr>\n",
       "    <tr>\n",
       "      <th>HO - Other</th>\n",
       "      <td> 0.000000</td>\n",
       "      <td> 0.000</td>\n",
       "    </tr>\n",
       "    <tr>\n",
       "      <th>loan_amnt</th>\n",
       "      <td> 0.078986</td>\n",
       "      <td> 0.035</td>\n",
       "    </tr>\n",
       "  </tbody>\n",
       "</table>\n",
       "</div>"
      ],
      "text/plain": [
       "               Dec Tree  Ada Boost\n",
       "HO - Rent      0.005612      0.005\n",
       "HO - Own       0.002442      0.000\n",
       "HO - Mortgage  0.007301      0.000\n",
       "HO - Other     0.000000      0.000\n",
       "loan_amnt      0.078986      0.035"
      ]
     },
     "execution_count": 25,
     "metadata": {},
     "output_type": "execute_result"
    }
   ],
   "source": [
    "Model_Outputs.head()"
   ]
  },
  {
   "cell_type": "code",
   "execution_count": 34,
   "metadata": {
    "collapsed": false
   },
   "outputs": [],
   "source": [
    "from sklearn.metrics import zero_one_loss\n",
    "n_estimators=200\n",
    "\n",
    "ada_discrete_err = np.zeros((n_estimators,))\n",
    "for i, y_pred in enumerate(bdt.staged_predict(Xtest)):\n",
    "    ada_discrete_err[i] = roc_auc_score(y_pred, ytest)"
   ]
  },
  {
   "cell_type": "code",
   "execution_count": 35,
   "metadata": {
    "collapsed": false
   },
   "outputs": [
    {
     "data": {
      "text/plain": [
       "array([ 0.53353343,  0.53352269,  0.53336619,  0.53361174,  0.53342694,\n",
       "        0.53365044,  0.53356813,  0.53390999,  0.53363629])"
      ]
     },
     "execution_count": 35,
     "metadata": {},
     "output_type": "execute_result"
    }
   ],
   "source": [
    "ada_discrete_err[190:199]"
   ]
  },
  {
   "cell_type": "code",
   "execution_count": 36,
   "metadata": {
    "collapsed": false
   },
   "outputs": [],
   "source": [
    "from sklearn.metrics import zero_one_loss\n",
    "\n",
    "\n",
    "ada_discrete_err_train = np.zeros((n_estimators,))\n",
    "for i, y_pred in enumerate(bdt.staged_predict(Xtrain)):\n",
    "    ada_discrete_err_train[i] = roc_auc_score(y_pred, ytrain)"
   ]
  },
  {
   "cell_type": "code",
   "execution_count": 37,
   "metadata": {
    "collapsed": false
   },
   "outputs": [
    {
     "data": {
      "text/plain": [
       "array([ 0.53891496,  0.53885069,  0.53880754,  0.53895661,  0.5389464 ,\n",
       "        0.53899505,  0.53916013,  0.53944818,  0.53901568])"
      ]
     },
     "execution_count": 37,
     "metadata": {},
     "output_type": "execute_result"
    }
   ],
   "source": [
    "ada_discrete_err_train[190:199]"
   ]
  },
  {
   "cell_type": "code",
   "execution_count": 39,
   "metadata": {
    "collapsed": false
   },
   "outputs": [
    {
     "data": {
      "image/png": "[encoded data removed]",
      "text/plain": [
       "<matplotlib.figure.Figure at 0x11dd8bc90>"
      ]
     },
     "metadata": {},
     "output_type": "display_data"
    }
   ],
   "source": [
    "fig = plt.figure()\n",
    "ax = fig.add_subplot(111)\n",
    "\n",
    "ax.plot(np.arange(n_estimators) + 1, ada_discrete_err,\n",
    "        label='Discrete AdaBoost Test Error',\n",
    "        color='red')\n",
    "ax.plot(np.arange(n_estimators) + 1, ada_discrete_err_train,\n",
    "        label='Discrete AdaBoost Train Error',\n",
    "        color='blue')\n",
    "# ax.plot(np.arange(n_estimators) + 1, ada_real_err,\n",
    "#        label='Real AdaBoost Test Error',\n",
    "#        color='orange')\n",
    "# ax.plot(np.arange(n_estimators) + 1, ada_real_err_train,\n",
    "#        label='Real AdaBoost Train Error',\n",
    "#        color='green')\n",
    "\n",
    "ax.set_ylim((0.5, 0.6))\n",
    "ax.set_xlabel('n_estimators')\n",
    "ax.set_ylabel('error rate')\n",
    "\n",
    "leg = ax.legend(loc='upper right', fancybox=True)\n",
    "leg.get_frame().set_alpha(0.7)\n",
    "\n",
    "plt.show()"
   ]
  },
  {
   "cell_type": "code",
   "execution_count": 73,
   "metadata": {
    "collapsed": false
   },
   "outputs": [],
   "source": [
    "# Try Ada Boost Classifier use Grid Search to find best \n",
    "\n",
    "from sklearn.ensemble import AdaBoostClassifier\n",
    "\n",
    "bdt = AdaBoostClassifier()\n",
    "\n",
    "# n_estimators_range = range(200,500,10)\n",
    "\n",
    "# param_grid = {'n_estimators': n_estimators_range}\n",
    "\n",
    "skf = StratifiedKFold(ytrain, 3)\n",
    "\n",
    "# Grid search for best n_neighbors\n",
    "grid = GridSearchCV(bdt, param_grid, cv=skf)\n",
    "\n",
    "grid = grid.fit(Xtrain[features_selected],ytrain)"
   ]
  },
  {
   "cell_type": "code",
   "execution_count": 74,
   "metadata": {
    "collapsed": false
   },
   "outputs": [
    {
     "name": "stdout",
     "output_type": "stream",
     "text": [
      "AUC Score: 0.692564\n"
     ]
    }
   ],
   "source": [
    "y_probas_bdt = grid.predict_proba(Xtest[features_selected])[:,1]\n",
    "\n",
    "print \"AUC Score: %f\" % roc_auc_score(ytest,y_probas_bdt)"
   ]
  },
  {
   "cell_type": "code",
   "execution_count": 10,
   "metadata": {
    "collapsed": false
   },
   "outputs": [
    {
     "data": {
      "text/plain": [
       "GridSearchCV(cv=None, error_score='raise',\n",
       "       estimator=RandomForestClassifier(bootstrap=True, class_weight=None, criterion='gini',\n",
       "            max_depth=None, max_features='auto', max_leaf_nodes=None,\n",
       "            min_samples_leaf=1, min_samples_split=2,\n",
       "            min_weight_fraction_leaf=0.0, n_estimators=20, n_jobs=1,\n",
       "            oob_score=False, random_state=None, verbose=0,\n",
       "            warm_start=False),\n",
       "       fit_params={}, iid=True, loss_func=None, n_jobs=1,\n",
       "       param_grid={'min_samples_split': [1, 10], 'bootstrap': [True, False], 'criterion': ['gini', 'entropy'], 'max_depth': [3, None], 'min_samples_leaf': [1, 10]},\n",
       "       pre_dispatch='2*n_jobs', refit=True, score_func=None, scoring=None,\n",
       "       verbose=0)"
      ]
     },
     "execution_count": 10,
     "metadata": {},
     "output_type": "execute_result"
    }
   ],
   "source": [
    "# Try Random Forest Classifier \n",
    "# class sklearn.ensemble.RandomForestClassifier(n_estimators=10, criterion='gini', max_depth=None, min_samples_split=2,\n",
    "# min_samples_leaf=1, min_weight_fraction_leaf=0.0, max_features='auto', max_leaf_nodes=None, bootstrap=True, \n",
    "# oob_score=False, n_jobs=1, random_state=None, verbose=0, warm_start=False, class_weight=None)\n",
    "\n",
    "from sklearn.ensemble import RandomForestClassifier\n",
    "\n",
    "clf = RandomForestClassifier(n_estimators = 20)\n",
    "\n",
    "# use a full grid over all parameters\n",
    "'''\n",
    "param_grid = {\"max_depth\": [3, None],\n",
    "              \"max_features\": [1, 3, 10],\n",
    "              \"min_samples_split\": [1, 3, 10],\n",
    "              \"min_samples_leaf\": [1, 3, 10],\n",
    "              \"bootstrap\": [True, False],\n",
    "              \"criterion\": [\"gini\", \"entropy\"]}\n",
    "              \n",
    "'''\n",
    "param_grid = {\"max_depth\": [3, None],\n",
    "              \"min_samples_split\": [1, 10],\n",
    "              \"min_samples_leaf\": [1, 10],\n",
    "              \"bootstrap\": [True, False],\n",
    "              \"criterion\": [\"gini\", \"entropy\"]}\n",
    "\n",
    "# run grid search\n",
    "grid_search = GridSearchCV(clf, param_grid=param_grid)\n",
    "\n",
    "grid_search.fit(Xtrain, ytrain)"
   ]
  },
  {
   "cell_type": "code",
   "execution_count": 11,
   "metadata": {
    "collapsed": false
   },
   "outputs": [
    {
     "name": "stdout",
     "output_type": "stream",
     "text": [
      "Random Forest Grid AUC Score: 0.673751\n"
     ]
    }
   ],
   "source": [
    "y_probas_rf = grid_search.predict_proba(Xtest)[:,1]\n",
    "\n",
    "print \"Random Forest Grid AUC Score: %f\" % roc_auc_score(ytest,y_probas_rf)"
   ]
  },
  {
   "cell_type": "code",
   "execution_count": 13,
   "metadata": {
    "collapsed": false
   },
   "outputs": [
    {
     "name": "stdout",
     "output_type": "stream",
     "text": [
      "{'min_samples_split': 1, 'bootstrap': True, 'criterion': 'gini', 'max_depth': 3, 'min_samples_leaf': 1}\n",
      "0.942856597726\n"
     ]
    }
   ],
   "source": [
    "print grid_search.best_params_\n",
    "print grid_search.best_score_"
   ]
  },
  {
   "cell_type": "code",
   "execution_count": 9,
   "metadata": {
    "collapsed": false
   },
   "outputs": [],
   "source": [
    "# Let's try to tune some logreg hyperparameters for feature set X_fico   \n",
    "# pipeline with scaling to select best C and penalty\n",
    "# Use Cross Validation to create train, test samples from data\n",
    "\n",
    "#skf = StratifiedKFold(ytrain, 10)\n",
    "\n",
    "# X_fico =Xtrain[['fico_interp']]\n",
    "# grid_fico = GridSearchCV(pipe, param_grid, cv=skf, scoring='roc_auc')\n",
    "# grid = GridSearchCV(logreg, param_grid, cv=skf, scoring='roc_auc')\n",
    "\n",
    "# Fit classifier to xtrain, ytrain data.  Note X_Fico selects subfeatures from Xtrain\n",
    "# grid_fico.fit(X_fico, ytrain)"
   ]
  },
  {
   "cell_type": "code",
   "execution_count": 22,
   "metadata": {
    "collapsed": false
   },
   "outputs": [],
   "source": [
    "# Use grid tuned classifier to predict probabilities, put in y_probas\n",
    "# y_probas_fico = grid_fico.predict_proba(Xtest[['fico_interp']])[:,1]"
   ]
  },
  {
   "cell_type": "code",
   "execution_count": 40,
   "metadata": {
    "collapsed": false
   },
   "outputs": [
    {
     "data": {
      "text/plain": [
       "GridSearchCV(cv=sklearn.cross_validation.StratifiedKFold(labels=[ 0.  0. ...,  0.  0.], n_folds=10, shuffle=False, random_state=None),\n",
       "       error_score='raise',\n",
       "       estimator=Pipeline(steps=[('standardscaler', StandardScaler(copy=True, with_mean=True, with_std=True)), ('logisticregression', LogisticRegression(C=1.0, class_weight=None, dual=False, fit_intercept=True,\n",
       "          intercept_scaling=1, max_iter=100, multi_class='ovr',\n",
       "          penalty='l2', random_state=None, solver='liblinear', tol=0.0001,\n",
       "          verbose=0))]),\n",
       "       fit_params={}, iid=True, loss_func=None, n_jobs=1,\n",
       "       param_grid={'logisticregression__penalty': ['l1', 'l2'], 'logisticregression__C': array([  1.00000e-05,   1.00000e-04,   1.00000e-03,   1.00000e-02,\n",
       "         1.00000e-01,   1.00000e+00])},\n",
       "       pre_dispatch='2*n_jobs', refit=True, score_func=None,\n",
       "       scoring='roc_auc', verbose=0)"
      ]
     },
     "execution_count": 40,
     "metadata": {},
     "output_type": "execute_result"
    }
   ],
   "source": [
    "# Let's try to tune some logreg hyperparameters for feature set X_LCRating  \n",
    "# pipeline with scaling to select best C and penalty\n",
    "# Use Cross Validation to create train, test samples from data\n",
    "sub_grade_columns = ['A1','A2','A3','A4','A5',\n",
    "                'B1','B2','B3','B4','B5',\n",
    "                'C1','C2','C3','C4','C5',\n",
    "                'D1','D2','D3','D4','D5',\n",
    "                'E1','E2','E3','E4','E5',\n",
    "                'F1','F2','F3','F4','F5',\n",
    "                'G1','G2','G3','G4','G5']\n",
    "\n",
    "\n",
    "X_LCR = Xtrain[sub_grade_columns]\n",
    "\n",
    "skf = StratifiedKFold(ytrain, 10)\n",
    "param_grid = dict(logisticregression__C=C_range, logisticregression__penalty=penalty_options)\n",
    "# param_grid = dict(lm__C=C_range, lm__penalty=penalty_options)\n",
    "\n",
    "grid_LCR = GridSearchCV(pipe, param_grid, cv=skf, scoring='roc_auc')\n",
    "\n",
    "grid_LCR.fit(X_LCR, ytrain)"
   ]
  },
  {
   "cell_type": "code",
   "execution_count": 41,
   "metadata": {
    "collapsed": false
   },
   "outputs": [],
   "source": [
    "# Use grid tuned classifier to predict probabilities, put in y_probas\n",
    "y_probas_LCR = grid_LCR.predict_proba(Xtest[sub_grade_columns])[:,1]"
   ]
  },
  {
   "cell_type": "code",
   "execution_count": 42,
   "metadata": {
    "collapsed": false
   },
   "outputs": [],
   "source": [
    "from scipy import interp"
   ]
  },
  {
   "cell_type": "code",
   "execution_count": 44,
   "metadata": {
    "collapsed": false
   },
   "outputs": [
    {
     "data": {
      "image/png": "[encoded data removed]",
      "text/plain": [
       "<matplotlib.figure.Figure at 0x10b596a10>"
      ]
     },
     "metadata": {},
     "output_type": "display_data"
    }
   ],
   "source": [
    "# Generate ROC Curves from y and y_probas calculated on individual feature sets\n",
    "\n",
    "fpr, tpr, thresholds= roc_curve(ytest, y_probas)\n",
    "fpr1, tpr1, thresholds1 = roc_curve(ytest, y_probas_bdt)\n",
    "fpr2, tpr2, thresholds2 = roc_curve(ytest, y_probas_LCR)\n",
    "\n",
    "plt.figure(figsize=(6,6))\n",
    "\n",
    "# create legend complete with ROC_AUC score for each feature set. \n",
    "Features, = plt.plot(fpr, tpr,label = 'Feature Reduction AUC = %f' % roc_auc_score(ytest,y_probas))\n",
    "Fico, = plt.plot(fpr1, tpr1,label = 'AdaBoost AUC = %f' % roc_auc_score(ytest,y_probas_bdt))\n",
    "LC, = plt.plot(fpr2, tpr2,label = 'LC Scores = %f' % roc_auc_score(ytest,y_probas_LCR))\n",
    "\n",
    "plt.legend(handles =[Features,Fico,LC],loc=4)\n",
    "\n",
    "plt.xlim([0.0, 1.0])\n",
    "plt.ylim([0.0, 1.0])\n",
    "plt.xlabel('False Positive Rate')\n",
    "plt.ylabel('True Positive Rate')\n",
    "plt.title('ROC Curve for different classifiers')\n",
    "\n",
    "plt.savefig('ROC Curves.png', bbox_inches='tight')\n"
   ]
  }
 ],
 "metadata": {
  "kernelspec": {
   "display_name": "Python 2",
   "language": "python",
   "name": "python2"
  },
  "language_info": {
   "codemirror_mode": {
    "name": "ipython",
    "version": 2
   },
   "file_extension": ".py",
   "mimetype": "text/x-python",
   "name": "python",
   "nbconvert_exporter": "python",
   "pygments_lexer": "ipython2",
   "version": "2.7.9"
  }
 },
 "nbformat": 4,
 "nbformat_minor": 0
}
